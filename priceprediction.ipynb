{
 "cells": [
  {
   "cell_type": "code",
   "execution_count": 1,
   "metadata": {},
   "outputs": [
    {
     "data": {
      "application/javascript": [
       "\n",
       "            setTimeout(function() {\n",
       "                var nbb_cell_id = 1;\n",
       "                var nbb_unformatted_code = \"from IPython.core.debugger import set_trace\\n\\n%load_ext nb_black\\n\\nimport pandas as pd\\nimport numpy as np\\nimport os\\nimport matplotlib.pyplot as plt\\nimport time\\n\\nplt.style.use(style=\\\"seaborn\\\")\\n%matplotlib inline\";\n",
       "                var nbb_formatted_code = \"from IPython.core.debugger import set_trace\\n\\n%load_ext nb_black\\n\\nimport pandas as pd\\nimport numpy as np\\nimport os\\nimport matplotlib.pyplot as plt\\nimport time\\n\\nplt.style.use(style=\\\"seaborn\\\")\\n%matplotlib inline\";\n",
       "                var nbb_cells = Jupyter.notebook.get_cells();\n",
       "                for (var i = 0; i < nbb_cells.length; ++i) {\n",
       "                    if (nbb_cells[i].input_prompt_number == nbb_cell_id) {\n",
       "                        if (nbb_cells[i].get_text() == nbb_unformatted_code) {\n",
       "                             nbb_cells[i].set_text(nbb_formatted_code);\n",
       "                        }\n",
       "                        break;\n",
       "                    }\n",
       "                }\n",
       "            }, 500);\n",
       "            "
      ],
      "text/plain": [
       "<IPython.core.display.Javascript object>"
      ]
     },
     "metadata": {},
     "output_type": "display_data"
    }
   ],
   "source": [
    "from IPython.core.debugger import set_trace\n",
    "\n",
    "%load_ext nb_black\n",
    "\n",
    "import pandas as pd\n",
    "import numpy as np\n",
    "import os\n",
    "import matplotlib.pyplot as plt\n",
    "import time\n",
    "\n",
    "plt.style.use(style=\"seaborn\")\n",
    "%matplotlib inline"
   ]
  },
  {
   "cell_type": "code",
   "execution_count": 2,
   "metadata": {},
   "outputs": [
    {
     "data": {
      "application/javascript": [
       "\n",
       "            setTimeout(function() {\n",
       "                var nbb_cell_id = 2;\n",
       "                var nbb_unformatted_code = \"df = pd.read_csv(\\\"data/MSFT-1Y-Hourly.csv\\\")\";\n",
       "                var nbb_formatted_code = \"df = pd.read_csv(\\\"data/MSFT-1Y-Hourly.csv\\\")\";\n",
       "                var nbb_cells = Jupyter.notebook.get_cells();\n",
       "                for (var i = 0; i < nbb_cells.length; ++i) {\n",
       "                    if (nbb_cells[i].input_prompt_number == nbb_cell_id) {\n",
       "                        if (nbb_cells[i].get_text() == nbb_unformatted_code) {\n",
       "                             nbb_cells[i].set_text(nbb_formatted_code);\n",
       "                        }\n",
       "                        break;\n",
       "                    }\n",
       "                }\n",
       "            }, 500);\n",
       "            "
      ],
      "text/plain": [
       "<IPython.core.display.Javascript object>"
      ]
     },
     "metadata": {},
     "output_type": "display_data"
    }
   ],
   "source": [
    "df = pd.read_csv(\"data/MSFT-1Y-Hourly.csv\")"
   ]
  },
  {
   "cell_type": "code",
   "execution_count": 3,
   "metadata": {},
   "outputs": [
    {
     "name": "stdout",
     "output_type": "stream",
     "text": [
      "<class 'pandas.core.frame.DataFrame'>\n",
      "RangeIndex: 1753 entries, 0 to 1752\n",
      "Data columns (total 8 columns):\n",
      " #   Column    Non-Null Count  Dtype  \n",
      "---  ------    --------------  -----  \n",
      " 0   date      1753 non-null   object \n",
      " 1   open      1753 non-null   float64\n",
      " 2   high      1753 non-null   float64\n",
      " 3   low       1753 non-null   float64\n",
      " 4   close     1753 non-null   float64\n",
      " 5   volume    1753 non-null   int64  \n",
      " 6   average   1753 non-null   float64\n",
      " 7   barCount  1753 non-null   int64  \n",
      "dtypes: float64(5), int64(2), object(1)\n",
      "memory usage: 109.7+ KB\n"
     ]
    },
    {
     "data": {
      "application/javascript": [
       "\n",
       "            setTimeout(function() {\n",
       "                var nbb_cell_id = 3;\n",
       "                var nbb_unformatted_code = \"df.info()\";\n",
       "                var nbb_formatted_code = \"df.info()\";\n",
       "                var nbb_cells = Jupyter.notebook.get_cells();\n",
       "                for (var i = 0; i < nbb_cells.length; ++i) {\n",
       "                    if (nbb_cells[i].input_prompt_number == nbb_cell_id) {\n",
       "                        if (nbb_cells[i].get_text() == nbb_unformatted_code) {\n",
       "                             nbb_cells[i].set_text(nbb_formatted_code);\n",
       "                        }\n",
       "                        break;\n",
       "                    }\n",
       "                }\n",
       "            }, 500);\n",
       "            "
      ],
      "text/plain": [
       "<IPython.core.display.Javascript object>"
      ]
     },
     "metadata": {},
     "output_type": "display_data"
    }
   ],
   "source": [
    "df.info()"
   ]
  },
  {
   "cell_type": "code",
   "execution_count": 4,
   "metadata": {},
   "outputs": [
    {
     "data": {
      "application/javascript": [
       "\n",
       "            setTimeout(function() {\n",
       "                var nbb_cell_id = 4;\n",
       "                var nbb_unformatted_code = \"df.set_index(\\\"date\\\", drop=True, inplace=True)\";\n",
       "                var nbb_formatted_code = \"df.set_index(\\\"date\\\", drop=True, inplace=True)\";\n",
       "                var nbb_cells = Jupyter.notebook.get_cells();\n",
       "                for (var i = 0; i < nbb_cells.length; ++i) {\n",
       "                    if (nbb_cells[i].input_prompt_number == nbb_cell_id) {\n",
       "                        if (nbb_cells[i].get_text() == nbb_unformatted_code) {\n",
       "                             nbb_cells[i].set_text(nbb_formatted_code);\n",
       "                        }\n",
       "                        break;\n",
       "                    }\n",
       "                }\n",
       "            }, 500);\n",
       "            "
      ],
      "text/plain": [
       "<IPython.core.display.Javascript object>"
      ]
     },
     "metadata": {},
     "output_type": "display_data"
    }
   ],
   "source": [
    "df.set_index(\"date\", drop=True, inplace=True)"
   ]
  },
  {
   "cell_type": "markdown",
   "metadata": {},
   "source": [
    "We'll use only the close feature."
   ]
  },
  {
   "cell_type": "code",
   "execution_count": 5,
   "metadata": {},
   "outputs": [
    {
     "data": {
      "application/javascript": [
       "\n",
       "            setTimeout(function() {\n",
       "                var nbb_cell_id = 5;\n",
       "                var nbb_unformatted_code = \"df = df[[\\\"close\\\"]]\";\n",
       "                var nbb_formatted_code = \"df = df[[\\\"close\\\"]]\";\n",
       "                var nbb_cells = Jupyter.notebook.get_cells();\n",
       "                for (var i = 0; i < nbb_cells.length; ++i) {\n",
       "                    if (nbb_cells[i].input_prompt_number == nbb_cell_id) {\n",
       "                        if (nbb_cells[i].get_text() == nbb_unformatted_code) {\n",
       "                             nbb_cells[i].set_text(nbb_formatted_code);\n",
       "                        }\n",
       "                        break;\n",
       "                    }\n",
       "                }\n",
       "            }, 500);\n",
       "            "
      ],
      "text/plain": [
       "<IPython.core.display.Javascript object>"
      ]
     },
     "metadata": {},
     "output_type": "display_data"
    }
   ],
   "source": [
    "df = df[[\"close\"]]"
   ]
  },
  {
   "cell_type": "code",
   "execution_count": 6,
   "metadata": {},
   "outputs": [
    {
     "data": {
      "text/plain": [
       "False"
      ]
     },
     "execution_count": 6,
     "metadata": {},
     "output_type": "execute_result"
    },
    {
     "data": {
      "application/javascript": [
       "\n",
       "            setTimeout(function() {\n",
       "                var nbb_cell_id = 6;\n",
       "                var nbb_unformatted_code = \"type(df[\\\"close\\\"]) == type(df[[\\\"close\\\"]])\";\n",
       "                var nbb_formatted_code = \"type(df[\\\"close\\\"]) == type(df[[\\\"close\\\"]])\";\n",
       "                var nbb_cells = Jupyter.notebook.get_cells();\n",
       "                for (var i = 0; i < nbb_cells.length; ++i) {\n",
       "                    if (nbb_cells[i].input_prompt_number == nbb_cell_id) {\n",
       "                        if (nbb_cells[i].get_text() == nbb_unformatted_code) {\n",
       "                             nbb_cells[i].set_text(nbb_formatted_code);\n",
       "                        }\n",
       "                        break;\n",
       "                    }\n",
       "                }\n",
       "            }, 500);\n",
       "            "
      ],
      "text/plain": [
       "<IPython.core.display.Javascript object>"
      ]
     },
     "metadata": {},
     "output_type": "display_data"
    }
   ],
   "source": [
    "type(df[\"close\"]) == type(df[[\"close\"]])"
   ]
  },
  {
   "cell_type": "code",
   "execution_count": 7,
   "metadata": {},
   "outputs": [
    {
     "data": {
      "text/plain": [
       "pandas.core.frame.DataFrame"
      ]
     },
     "execution_count": 7,
     "metadata": {},
     "output_type": "execute_result"
    },
    {
     "data": {
      "application/javascript": [
       "\n",
       "            setTimeout(function() {\n",
       "                var nbb_cell_id = 7;\n",
       "                var nbb_unformatted_code = \"type(df[[\\\"close\\\"]])\";\n",
       "                var nbb_formatted_code = \"type(df[[\\\"close\\\"]])\";\n",
       "                var nbb_cells = Jupyter.notebook.get_cells();\n",
       "                for (var i = 0; i < nbb_cells.length; ++i) {\n",
       "                    if (nbb_cells[i].input_prompt_number == nbb_cell_id) {\n",
       "                        if (nbb_cells[i].get_text() == nbb_unformatted_code) {\n",
       "                             nbb_cells[i].set_text(nbb_formatted_code);\n",
       "                        }\n",
       "                        break;\n",
       "                    }\n",
       "                }\n",
       "            }, 500);\n",
       "            "
      ],
      "text/plain": [
       "<IPython.core.display.Javascript object>"
      ]
     },
     "metadata": {},
     "output_type": "display_data"
    }
   ],
   "source": [
    "type(df[[\"close\"]])"
   ]
  },
  {
   "cell_type": "code",
   "execution_count": 8,
   "metadata": {},
   "outputs": [
    {
     "data": {
      "text/html": [
       "<div>\n",
       "<style scoped>\n",
       "    .dataframe tbody tr th:only-of-type {\n",
       "        vertical-align: middle;\n",
       "    }\n",
       "\n",
       "    .dataframe tbody tr th {\n",
       "        vertical-align: top;\n",
       "    }\n",
       "\n",
       "    .dataframe thead th {\n",
       "        text-align: right;\n",
       "    }\n",
       "</style>\n",
       "<table border=\"1\" class=\"dataframe\">\n",
       "  <thead>\n",
       "    <tr style=\"text-align: right;\">\n",
       "      <th></th>\n",
       "      <th>close</th>\n",
       "    </tr>\n",
       "  </thead>\n",
       "  <tbody>\n",
       "    <tr>\n",
       "      <th>count</th>\n",
       "      <td>1753.000000</td>\n",
       "    </tr>\n",
       "    <tr>\n",
       "      <th>mean</th>\n",
       "      <td>164.330610</td>\n",
       "    </tr>\n",
       "    <tr>\n",
       "      <th>std</th>\n",
       "      <td>23.125225</td>\n",
       "    </tr>\n",
       "    <tr>\n",
       "      <th>min</th>\n",
       "      <td>132.670000</td>\n",
       "    </tr>\n",
       "    <tr>\n",
       "      <th>25%</th>\n",
       "      <td>143.320000</td>\n",
       "    </tr>\n",
       "    <tr>\n",
       "      <th>50%</th>\n",
       "      <td>159.750000</td>\n",
       "    </tr>\n",
       "    <tr>\n",
       "      <th>75%</th>\n",
       "      <td>183.390000</td>\n",
       "    </tr>\n",
       "    <tr>\n",
       "      <th>max</th>\n",
       "      <td>216.540000</td>\n",
       "    </tr>\n",
       "  </tbody>\n",
       "</table>\n",
       "</div>"
      ],
      "text/plain": [
       "             close\n",
       "count  1753.000000\n",
       "mean    164.330610\n",
       "std      23.125225\n",
       "min     132.670000\n",
       "25%     143.320000\n",
       "50%     159.750000\n",
       "75%     183.390000\n",
       "max     216.540000"
      ]
     },
     "execution_count": 8,
     "metadata": {},
     "output_type": "execute_result"
    },
    {
     "data": {
      "application/javascript": [
       "\n",
       "            setTimeout(function() {\n",
       "                var nbb_cell_id = 8;\n",
       "                var nbb_unformatted_code = \"df.describe()\";\n",
       "                var nbb_formatted_code = \"df.describe()\";\n",
       "                var nbb_cells = Jupyter.notebook.get_cells();\n",
       "                for (var i = 0; i < nbb_cells.length; ++i) {\n",
       "                    if (nbb_cells[i].input_prompt_number == nbb_cell_id) {\n",
       "                        if (nbb_cells[i].get_text() == nbb_unformatted_code) {\n",
       "                             nbb_cells[i].set_text(nbb_formatted_code);\n",
       "                        }\n",
       "                        break;\n",
       "                    }\n",
       "                }\n",
       "            }, 500);\n",
       "            "
      ],
      "text/plain": [
       "<IPython.core.display.Javascript object>"
      ]
     },
     "metadata": {},
     "output_type": "display_data"
    }
   ],
   "source": [
    "df.describe()"
   ]
  },
  {
   "cell_type": "code",
   "execution_count": 9,
   "metadata": {},
   "outputs": [
    {
     "data": {
      "image/png": "[encoded data removed]",
      "text/plain": [
       "<Figure size 1152x432 with 1 Axes>"
      ]
     },
     "metadata": {
      "needs_background": "light"
     },
     "output_type": "display_data"
    },
    {
     "data": {
      "application/javascript": [
       "\n",
       "            setTimeout(function() {\n",
       "                var nbb_cell_id = 9;\n",
       "                var nbb_unformatted_code = \"plt.figure(1, figsize=(16, 6))\\n_ = plt.plot(df.close)\";\n",
       "                var nbb_formatted_code = \"plt.figure(1, figsize=(16, 6))\\n_ = plt.plot(df.close)\";\n",
       "                var nbb_cells = Jupyter.notebook.get_cells();\n",
       "                for (var i = 0; i < nbb_cells.length; ++i) {\n",
       "                    if (nbb_cells[i].input_prompt_number == nbb_cell_id) {\n",
       "                        if (nbb_cells[i].get_text() == nbb_unformatted_code) {\n",
       "                             nbb_cells[i].set_text(nbb_formatted_code);\n",
       "                        }\n",
       "                        break;\n",
       "                    }\n",
       "                }\n",
       "            }, 500);\n",
       "            "
      ],
      "text/plain": [
       "<IPython.core.display.Javascript object>"
      ]
     },
     "metadata": {},
     "output_type": "display_data"
    }
   ],
   "source": [
    "plt.figure(1, figsize=(16, 6))\n",
    "_ = plt.plot(df.close)"
   ]
  },
  {
   "cell_type": "markdown",
   "metadata": {},
   "source": [
    "Calculate the percentage change.\n",
    "\n",
    "The reason for using pct_change instead of the prices is the benefit of normalization as we can measure all variables in a comparable metric. Also returns have more manageable statistical properties than prices such as stationarity, as in most cases we don't have stationary prices but we can have stationary returns.\n",
    "\n",
    "A stationary time series is one where statistical properties such as mean, variance, correlation, etc are constant over time.\n",
    "For more details on stationarity: https://en.wikipedia.org/wiki/Stationary_process"
   ]
  },
  {
   "cell_type": "code",
   "execution_count": 10,
   "metadata": {},
   "outputs": [
    {
     "data": {
      "application/javascript": [
       "\n",
       "            setTimeout(function() {\n",
       "                var nbb_cell_id = 10;\n",
       "                var nbb_unformatted_code = \"df[\\\"returns\\\"] = df.close.pct_change()\";\n",
       "                var nbb_formatted_code = \"df[\\\"returns\\\"] = df.close.pct_change()\";\n",
       "                var nbb_cells = Jupyter.notebook.get_cells();\n",
       "                for (var i = 0; i < nbb_cells.length; ++i) {\n",
       "                    if (nbb_cells[i].input_prompt_number == nbb_cell_id) {\n",
       "                        if (nbb_cells[i].get_text() == nbb_unformatted_code) {\n",
       "                             nbb_cells[i].set_text(nbb_formatted_code);\n",
       "                        }\n",
       "                        break;\n",
       "                    }\n",
       "                }\n",
       "            }, 500);\n",
       "            "
      ],
      "text/plain": [
       "<IPython.core.display.Javascript object>"
      ]
     },
     "metadata": {},
     "output_type": "display_data"
    }
   ],
   "source": [
    "df[\"returns\"] = df.close.pct_change()"
   ]
  },
  {
   "cell_type": "code",
   "execution_count": 11,
   "metadata": {},
   "outputs": [
    {
     "data": {
      "text/html": [
       "<div>\n",
       "<style scoped>\n",
       "    .dataframe tbody tr th:only-of-type {\n",
       "        vertical-align: middle;\n",
       "    }\n",
       "\n",
       "    .dataframe tbody tr th {\n",
       "        vertical-align: top;\n",
       "    }\n",
       "\n",
       "    .dataframe thead th {\n",
       "        text-align: right;\n",
       "    }\n",
       "</style>\n",
       "<table border=\"1\" class=\"dataframe\">\n",
       "  <thead>\n",
       "    <tr style=\"text-align: right;\">\n",
       "      <th></th>\n",
       "      <th>close</th>\n",
       "      <th>returns</th>\n",
       "    </tr>\n",
       "    <tr>\n",
       "      <th>date</th>\n",
       "      <th></th>\n",
       "      <th></th>\n",
       "    </tr>\n",
       "  </thead>\n",
       "  <tbody>\n",
       "    <tr>\n",
       "      <th>2019-08-07 14:30:00</th>\n",
       "      <td>132.89</td>\n",
       "      <td>NaN</td>\n",
       "    </tr>\n",
       "    <tr>\n",
       "      <th>2019-08-07 15:00:00</th>\n",
       "      <td>134.75</td>\n",
       "      <td>0.013997</td>\n",
       "    </tr>\n",
       "    <tr>\n",
       "      <th>2019-08-07 16:00:00</th>\n",
       "      <td>133.88</td>\n",
       "      <td>-0.006456</td>\n",
       "    </tr>\n",
       "    <tr>\n",
       "      <th>2019-08-07 17:00:00</th>\n",
       "      <td>133.90</td>\n",
       "      <td>0.000149</td>\n",
       "    </tr>\n",
       "    <tr>\n",
       "      <th>2019-08-07 18:00:00</th>\n",
       "      <td>134.83</td>\n",
       "      <td>0.006945</td>\n",
       "    </tr>\n",
       "  </tbody>\n",
       "</table>\n",
       "</div>"
      ],
      "text/plain": [
       "                      close   returns\n",
       "date                                 \n",
       "2019-08-07 14:30:00  132.89       NaN\n",
       "2019-08-07 15:00:00  134.75  0.013997\n",
       "2019-08-07 16:00:00  133.88 -0.006456\n",
       "2019-08-07 17:00:00  133.90  0.000149\n",
       "2019-08-07 18:00:00  134.83  0.006945"
      ]
     },
     "execution_count": 11,
     "metadata": {},
     "output_type": "execute_result"
    },
    {
     "data": {
      "application/javascript": [
       "\n",
       "            setTimeout(function() {\n",
       "                var nbb_cell_id = 11;\n",
       "                var nbb_unformatted_code = \"df.head(5)\";\n",
       "                var nbb_formatted_code = \"df.head(5)\";\n",
       "                var nbb_cells = Jupyter.notebook.get_cells();\n",
       "                for (var i = 0; i < nbb_cells.length; ++i) {\n",
       "                    if (nbb_cells[i].input_prompt_number == nbb_cell_id) {\n",
       "                        if (nbb_cells[i].get_text() == nbb_unformatted_code) {\n",
       "                             nbb_cells[i].set_text(nbb_formatted_code);\n",
       "                        }\n",
       "                        break;\n",
       "                    }\n",
       "                }\n",
       "            }, 500);\n",
       "            "
      ],
      "text/plain": [
       "<IPython.core.display.Javascript object>"
      ]
     },
     "metadata": {},
     "output_type": "display_data"
    }
   ],
   "source": [
    "df.head(5)"
   ]
  },
  {
   "cell_type": "code",
   "execution_count": 12,
   "metadata": {},
   "outputs": [
    {
     "data": {
      "text/plain": [
       "0.013996538490480992"
      ]
     },
     "execution_count": 12,
     "metadata": {},
     "output_type": "execute_result"
    },
    {
     "data": {
      "application/javascript": [
       "\n",
       "            setTimeout(function() {\n",
       "                var nbb_cell_id = 12;\n",
       "                var nbb_unformatted_code = \"134.75 / 132.89 - 1\";\n",
       "                var nbb_formatted_code = \"134.75 / 132.89 - 1\";\n",
       "                var nbb_cells = Jupyter.notebook.get_cells();\n",
       "                for (var i = 0; i < nbb_cells.length; ++i) {\n",
       "                    if (nbb_cells[i].input_prompt_number == nbb_cell_id) {\n",
       "                        if (nbb_cells[i].get_text() == nbb_unformatted_code) {\n",
       "                             nbb_cells[i].set_text(nbb_formatted_code);\n",
       "                        }\n",
       "                        break;\n",
       "                    }\n",
       "                }\n",
       "            }, 500);\n",
       "            "
      ],
      "text/plain": [
       "<IPython.core.display.Javascript object>"
      ]
     },
     "metadata": {},
     "output_type": "display_data"
    }
   ],
   "source": [
    "134.75 / 132.89 - 1"
   ]
  },
  {
   "cell_type": "markdown",
   "metadata": {},
   "source": [
    "Calculate the log returns.\n",
    "\n",
    "Why use log returns: https://quantivity.wordpress.com/2011/02/21/why-log-returns/"
   ]
  },
  {
   "cell_type": "code",
   "execution_count": 13,
   "metadata": {},
   "outputs": [
    {
     "data": {
      "application/javascript": [
       "\n",
       "            setTimeout(function() {\n",
       "                var nbb_cell_id = 13;\n",
       "                var nbb_unformatted_code = \"df[\\\"log_returns\\\"] = np.log(1 + df[\\\"returns\\\"])\";\n",
       "                var nbb_formatted_code = \"df[\\\"log_returns\\\"] = np.log(1 + df[\\\"returns\\\"])\";\n",
       "                var nbb_cells = Jupyter.notebook.get_cells();\n",
       "                for (var i = 0; i < nbb_cells.length; ++i) {\n",
       "                    if (nbb_cells[i].input_prompt_number == nbb_cell_id) {\n",
       "                        if (nbb_cells[i].get_text() == nbb_unformatted_code) {\n",
       "                             nbb_cells[i].set_text(nbb_formatted_code);\n",
       "                        }\n",
       "                        break;\n",
       "                    }\n",
       "                }\n",
       "            }, 500);\n",
       "            "
      ],
      "text/plain": [
       "<IPython.core.display.Javascript object>"
      ]
     },
     "metadata": {},
     "output_type": "display_data"
    }
   ],
   "source": [
    "df[\"log_returns\"] = np.log(1 + df[\"returns\"])"
   ]
  },
  {
   "cell_type": "code",
   "execution_count": 14,
   "metadata": {},
   "outputs": [
    {
     "data": {
      "text/html": [
       "<div>\n",
       "<style scoped>\n",
       "    .dataframe tbody tr th:only-of-type {\n",
       "        vertical-align: middle;\n",
       "    }\n",
       "\n",
       "    .dataframe tbody tr th {\n",
       "        vertical-align: top;\n",
       "    }\n",
       "\n",
       "    .dataframe thead th {\n",
       "        text-align: right;\n",
       "    }\n",
       "</style>\n",
       "<table border=\"1\" class=\"dataframe\">\n",
       "  <thead>\n",
       "    <tr style=\"text-align: right;\">\n",
       "      <th></th>\n",
       "      <th>close</th>\n",
       "      <th>returns</th>\n",
       "      <th>log_returns</th>\n",
       "    </tr>\n",
       "    <tr>\n",
       "      <th>date</th>\n",
       "      <th></th>\n",
       "      <th></th>\n",
       "      <th></th>\n",
       "    </tr>\n",
       "  </thead>\n",
       "  <tbody>\n",
       "    <tr>\n",
       "      <th>2019-08-07 14:30:00</th>\n",
       "      <td>132.89</td>\n",
       "      <td>NaN</td>\n",
       "      <td>NaN</td>\n",
       "    </tr>\n",
       "    <tr>\n",
       "      <th>2019-08-07 15:00:00</th>\n",
       "      <td>134.75</td>\n",
       "      <td>0.013997</td>\n",
       "      <td>0.013899</td>\n",
       "    </tr>\n",
       "    <tr>\n",
       "      <th>2019-08-07 16:00:00</th>\n",
       "      <td>133.88</td>\n",
       "      <td>-0.006456</td>\n",
       "      <td>-0.006477</td>\n",
       "    </tr>\n",
       "    <tr>\n",
       "      <th>2019-08-07 17:00:00</th>\n",
       "      <td>133.90</td>\n",
       "      <td>0.000149</td>\n",
       "      <td>0.000149</td>\n",
       "    </tr>\n",
       "    <tr>\n",
       "      <th>2019-08-07 18:00:00</th>\n",
       "      <td>134.83</td>\n",
       "      <td>0.006945</td>\n",
       "      <td>0.006921</td>\n",
       "    </tr>\n",
       "  </tbody>\n",
       "</table>\n",
       "</div>"
      ],
      "text/plain": [
       "                      close   returns  log_returns\n",
       "date                                              \n",
       "2019-08-07 14:30:00  132.89       NaN          NaN\n",
       "2019-08-07 15:00:00  134.75  0.013997     0.013899\n",
       "2019-08-07 16:00:00  133.88 -0.006456    -0.006477\n",
       "2019-08-07 17:00:00  133.90  0.000149     0.000149\n",
       "2019-08-07 18:00:00  134.83  0.006945     0.006921"
      ]
     },
     "execution_count": 14,
     "metadata": {},
     "output_type": "execute_result"
    },
    {
     "data": {
      "application/javascript": [
       "\n",
       "            setTimeout(function() {\n",
       "                var nbb_cell_id = 14;\n",
       "                var nbb_unformatted_code = \"df.head(5)\";\n",
       "                var nbb_formatted_code = \"df.head(5)\";\n",
       "                var nbb_cells = Jupyter.notebook.get_cells();\n",
       "                for (var i = 0; i < nbb_cells.length; ++i) {\n",
       "                    if (nbb_cells[i].input_prompt_number == nbb_cell_id) {\n",
       "                        if (nbb_cells[i].get_text() == nbb_unformatted_code) {\n",
       "                             nbb_cells[i].set_text(nbb_formatted_code);\n",
       "                        }\n",
       "                        break;\n",
       "                    }\n",
       "                }\n",
       "            }, 500);\n",
       "            "
      ],
      "text/plain": [
       "<IPython.core.display.Javascript object>"
      ]
     },
     "metadata": {},
     "output_type": "display_data"
    }
   ],
   "source": [
    "df.head(5)"
   ]
  },
  {
   "cell_type": "code",
   "execution_count": 15,
   "metadata": {},
   "outputs": [
    {
     "data": {
      "text/plain": [
       "[<matplotlib.lines.Line2D at 0x1ec5955b1f0>]"
      ]
     },
     "execution_count": 15,
     "metadata": {},
     "output_type": "execute_result"
    },
    {
     "data": {
      "image/png": "[encoded data removed]",
      "text/plain": [
       "<Figure size 1152x288 with 1 Axes>"
      ]
     },
     "metadata": {
      "needs_background": "light"
     },
     "output_type": "display_data"
    },
    {
     "data": {
      "application/javascript": [
       "\n",
       "            setTimeout(function() {\n",
       "                var nbb_cell_id = 15;\n",
       "                var nbb_unformatted_code = \"plt.figure(1, figsize=(16, 4))\\nplt.plot(df.log_returns)\";\n",
       "                var nbb_formatted_code = \"plt.figure(1, figsize=(16, 4))\\nplt.plot(df.log_returns)\";\n",
       "                var nbb_cells = Jupyter.notebook.get_cells();\n",
       "                for (var i = 0; i < nbb_cells.length; ++i) {\n",
       "                    if (nbb_cells[i].input_prompt_number == nbb_cell_id) {\n",
       "                        if (nbb_cells[i].get_text() == nbb_unformatted_code) {\n",
       "                             nbb_cells[i].set_text(nbb_formatted_code);\n",
       "                        }\n",
       "                        break;\n",
       "                    }\n",
       "                }\n",
       "            }, 500);\n",
       "            "
      ],
      "text/plain": [
       "<IPython.core.display.Javascript object>"
      ]
     },
     "metadata": {},
     "output_type": "display_data"
    }
   ],
   "source": [
    "plt.figure(1, figsize=(16, 4))\n",
    "plt.plot(df.log_returns)"
   ]
  },
  {
   "cell_type": "code",
   "execution_count": 16,
   "metadata": {},
   "outputs": [
    {
     "data": {
      "application/javascript": [
       "\n",
       "            setTimeout(function() {\n",
       "                var nbb_cell_id = 16;\n",
       "                var nbb_unformatted_code = \"df.dropna(inplace=True)\\nX = df[[\\\"close\\\", \\\"log_returns\\\"]].values\";\n",
       "                var nbb_formatted_code = \"df.dropna(inplace=True)\\nX = df[[\\\"close\\\", \\\"log_returns\\\"]].values\";\n",
       "                var nbb_cells = Jupyter.notebook.get_cells();\n",
       "                for (var i = 0; i < nbb_cells.length; ++i) {\n",
       "                    if (nbb_cells[i].input_prompt_number == nbb_cell_id) {\n",
       "                        if (nbb_cells[i].get_text() == nbb_unformatted_code) {\n",
       "                             nbb_cells[i].set_text(nbb_formatted_code);\n",
       "                        }\n",
       "                        break;\n",
       "                    }\n",
       "                }\n",
       "            }, 500);\n",
       "            "
      ],
      "text/plain": [
       "<IPython.core.display.Javascript object>"
      ]
     },
     "metadata": {},
     "output_type": "display_data"
    }
   ],
   "source": [
    "df.dropna(inplace=True)\n",
    "X = df[[\"close\", \"log_returns\"]].values"
   ]
  },
  {
   "cell_type": "code",
   "execution_count": 17,
   "metadata": {},
   "outputs": [
    {
     "data": {
      "text/plain": [
       "array([[ 1.34750000e+02,  1.38994914e-02],\n",
       "       [ 1.33880000e+02, -6.47733345e-03],\n",
       "       [ 1.33900000e+02,  1.49376354e-04],\n",
       "       ...,\n",
       "       [ 2.13350000e+02,  6.48925441e-03],\n",
       "       [ 2.14190000e+02,  3.92946195e-03],\n",
       "       [ 2.13640000e+02, -2.57111611e-03]])"
      ]
     },
     "execution_count": 17,
     "metadata": {},
     "output_type": "execute_result"
    },
    {
     "data": {
      "application/javascript": [
       "\n",
       "            setTimeout(function() {\n",
       "                var nbb_cell_id = 17;\n",
       "                var nbb_unformatted_code = \"X\";\n",
       "                var nbb_formatted_code = \"X\";\n",
       "                var nbb_cells = Jupyter.notebook.get_cells();\n",
       "                for (var i = 0; i < nbb_cells.length; ++i) {\n",
       "                    if (nbb_cells[i].input_prompt_number == nbb_cell_id) {\n",
       "                        if (nbb_cells[i].get_text() == nbb_unformatted_code) {\n",
       "                             nbb_cells[i].set_text(nbb_formatted_code);\n",
       "                        }\n",
       "                        break;\n",
       "                    }\n",
       "                }\n",
       "            }, 500);\n",
       "            "
      ],
      "text/plain": [
       "<IPython.core.display.Javascript object>"
      ]
     },
     "metadata": {},
     "output_type": "display_data"
    }
   ],
   "source": [
    "X"
   ]
  },
  {
   "cell_type": "code",
   "execution_count": 18,
   "metadata": {},
   "outputs": [
    {
     "data": {
      "application/javascript": [
       "\n",
       "            setTimeout(function() {\n",
       "                var nbb_cell_id = 18;\n",
       "                var nbb_unformatted_code = \"from sklearn.preprocessing import MinMaxScaler\";\n",
       "                var nbb_formatted_code = \"from sklearn.preprocessing import MinMaxScaler\";\n",
       "                var nbb_cells = Jupyter.notebook.get_cells();\n",
       "                for (var i = 0; i < nbb_cells.length; ++i) {\n",
       "                    if (nbb_cells[i].input_prompt_number == nbb_cell_id) {\n",
       "                        if (nbb_cells[i].get_text() == nbb_unformatted_code) {\n",
       "                             nbb_cells[i].set_text(nbb_formatted_code);\n",
       "                        }\n",
       "                        break;\n",
       "                    }\n",
       "                }\n",
       "            }, 500);\n",
       "            "
      ],
      "text/plain": [
       "<IPython.core.display.Javascript object>"
      ]
     },
     "metadata": {},
     "output_type": "display_data"
    }
   ],
   "source": [
    "from sklearn.preprocessing import MinMaxScaler"
   ]
  },
  {
   "cell_type": "code",
   "execution_count": 19,
   "metadata": {},
   "outputs": [
    {
     "data": {
      "application/javascript": [
       "\n",
       "            setTimeout(function() {\n",
       "                var nbb_cell_id = 19;\n",
       "                var nbb_unformatted_code = \"scaler = MinMaxScaler(feature_range=(0, 1)).fit(X)\\nX_scaled = scaler.transform(X)\";\n",
       "                var nbb_formatted_code = \"scaler = MinMaxScaler(feature_range=(0, 1)).fit(X)\\nX_scaled = scaler.transform(X)\";\n",
       "                var nbb_cells = Jupyter.notebook.get_cells();\n",
       "                for (var i = 0; i < nbb_cells.length; ++i) {\n",
       "                    if (nbb_cells[i].input_prompt_number == nbb_cell_id) {\n",
       "                        if (nbb_cells[i].get_text() == nbb_unformatted_code) {\n",
       "                             nbb_cells[i].set_text(nbb_formatted_code);\n",
       "                        }\n",
       "                        break;\n",
       "                    }\n",
       "                }\n",
       "            }, 500);\n",
       "            "
      ],
      "text/plain": [
       "<IPython.core.display.Javascript object>"
      ]
     },
     "metadata": {},
     "output_type": "display_data"
    }
   ],
   "source": [
    "scaler = MinMaxScaler(feature_range=(0, 1)).fit(X)\n",
    "X_scaled = scaler.transform(X)"
   ]
  },
  {
   "cell_type": "code",
   "execution_count": 20,
   "metadata": {},
   "outputs": [
    {
     "data": {
      "text/plain": [
       "array([[0.02480029, 0.6063657 ],\n",
       "       [0.01442709, 0.50534309],\n",
       "       [0.01466555, 0.53819647],\n",
       "       [0.02575414, 0.57177063],\n",
       "       [0.03350423, 0.56129908]])"
      ]
     },
     "execution_count": 20,
     "metadata": {},
     "output_type": "execute_result"
    },
    {
     "data": {
      "application/javascript": [
       "\n",
       "            setTimeout(function() {\n",
       "                var nbb_cell_id = 20;\n",
       "                var nbb_unformatted_code = \"X_scaled[:5]\";\n",
       "                var nbb_formatted_code = \"X_scaled[:5]\";\n",
       "                var nbb_cells = Jupyter.notebook.get_cells();\n",
       "                for (var i = 0; i < nbb_cells.length; ++i) {\n",
       "                    if (nbb_cells[i].input_prompt_number == nbb_cell_id) {\n",
       "                        if (nbb_cells[i].get_text() == nbb_unformatted_code) {\n",
       "                             nbb_cells[i].set_text(nbb_formatted_code);\n",
       "                        }\n",
       "                        break;\n",
       "                    }\n",
       "                }\n",
       "            }, 500);\n",
       "            "
      ],
      "text/plain": [
       "<IPython.core.display.Javascript object>"
      ]
     },
     "metadata": {},
     "output_type": "display_data"
    }
   ],
   "source": [
    "X_scaled[:5]"
   ]
  },
  {
   "cell_type": "code",
   "execution_count": 21,
   "metadata": {},
   "outputs": [
    {
     "data": {
      "application/javascript": [
       "\n",
       "            setTimeout(function() {\n",
       "                var nbb_cell_id = 21;\n",
       "                var nbb_unformatted_code = \"y = [x[0] for x in X_scaled]\";\n",
       "                var nbb_formatted_code = \"y = [x[0] for x in X_scaled]\";\n",
       "                var nbb_cells = Jupyter.notebook.get_cells();\n",
       "                for (var i = 0; i < nbb_cells.length; ++i) {\n",
       "                    if (nbb_cells[i].input_prompt_number == nbb_cell_id) {\n",
       "                        if (nbb_cells[i].get_text() == nbb_unformatted_code) {\n",
       "                             nbb_cells[i].set_text(nbb_formatted_code);\n",
       "                        }\n",
       "                        break;\n",
       "                    }\n",
       "                }\n",
       "            }, 500);\n",
       "            "
      ],
      "text/plain": [
       "<IPython.core.display.Javascript object>"
      ]
     },
     "metadata": {},
     "output_type": "display_data"
    }
   ],
   "source": [
    "y = [x[0] for x in X_scaled]"
   ]
  },
  {
   "cell_type": "code",
   "execution_count": 22,
   "metadata": {},
   "outputs": [
    {
     "data": {
      "text/plain": [
       "[0.024800286157148133,\n",
       " 0.014427089543340932,\n",
       " 0.014665553833313805,\n",
       " 0.025754143317038736,\n",
       " 0.033504232741147]"
      ]
     },
     "execution_count": 22,
     "metadata": {},
     "output_type": "execute_result"
    },
    {
     "data": {
      "application/javascript": [
       "\n",
       "            setTimeout(function() {\n",
       "                var nbb_cell_id = 22;\n",
       "                var nbb_unformatted_code = \"y[:5]\";\n",
       "                var nbb_formatted_code = \"y[:5]\";\n",
       "                var nbb_cells = Jupyter.notebook.get_cells();\n",
       "                for (var i = 0; i < nbb_cells.length; ++i) {\n",
       "                    if (nbb_cells[i].input_prompt_number == nbb_cell_id) {\n",
       "                        if (nbb_cells[i].get_text() == nbb_unformatted_code) {\n",
       "                             nbb_cells[i].set_text(nbb_formatted_code);\n",
       "                        }\n",
       "                        break;\n",
       "                    }\n",
       "                }\n",
       "            }, 500);\n",
       "            "
      ],
      "text/plain": [
       "<IPython.core.display.Javascript object>"
      ]
     },
     "metadata": {},
     "output_type": "display_data"
    }
   ],
   "source": [
    "y[:5]"
   ]
  },
  {
   "cell_type": "markdown",
   "metadata": {},
   "source": [
    "#### Train test split"
   ]
  },
  {
   "cell_type": "code",
   "execution_count": 23,
   "metadata": {},
   "outputs": [
    {
     "name": "stdout",
     "output_type": "stream",
     "text": [
      "1401\n"
     ]
    },
    {
     "data": {
      "application/javascript": [
       "\n",
       "            setTimeout(function() {\n",
       "                var nbb_cell_id = 23;\n",
       "                var nbb_unformatted_code = \"split = int(len(X_scaled) * 0.8)\\nprint(split)\";\n",
       "                var nbb_formatted_code = \"split = int(len(X_scaled) * 0.8)\\nprint(split)\";\n",
       "                var nbb_cells = Jupyter.notebook.get_cells();\n",
       "                for (var i = 0; i < nbb_cells.length; ++i) {\n",
       "                    if (nbb_cells[i].input_prompt_number == nbb_cell_id) {\n",
       "                        if (nbb_cells[i].get_text() == nbb_unformatted_code) {\n",
       "                             nbb_cells[i].set_text(nbb_formatted_code);\n",
       "                        }\n",
       "                        break;\n",
       "                    }\n",
       "                }\n",
       "            }, 500);\n",
       "            "
      ],
      "text/plain": [
       "<IPython.core.display.Javascript object>"
      ]
     },
     "metadata": {},
     "output_type": "display_data"
    }
   ],
   "source": [
    "split = int(len(X_scaled) * 0.8)\n",
    "print(split)"
   ]
  },
  {
   "cell_type": "code",
   "execution_count": 24,
   "metadata": {},
   "outputs": [
    {
     "data": {
      "application/javascript": [
       "\n",
       "            setTimeout(function() {\n",
       "                var nbb_cell_id = 24;\n",
       "                var nbb_unformatted_code = \"X_train = X_scaled[:split]\\nX_test = X_scaled[split : len(X_scaled)]\\ny_train = y[:split]\\ny_test = y[split : len(y)]\";\n",
       "                var nbb_formatted_code = \"X_train = X_scaled[:split]\\nX_test = X_scaled[split : len(X_scaled)]\\ny_train = y[:split]\\ny_test = y[split : len(y)]\";\n",
       "                var nbb_cells = Jupyter.notebook.get_cells();\n",
       "                for (var i = 0; i < nbb_cells.length; ++i) {\n",
       "                    if (nbb_cells[i].input_prompt_number == nbb_cell_id) {\n",
       "                        if (nbb_cells[i].get_text() == nbb_unformatted_code) {\n",
       "                             nbb_cells[i].set_text(nbb_formatted_code);\n",
       "                        }\n",
       "                        break;\n",
       "                    }\n",
       "                }\n",
       "            }, 500);\n",
       "            "
      ],
      "text/plain": [
       "<IPython.core.display.Javascript object>"
      ]
     },
     "metadata": {},
     "output_type": "display_data"
    }
   ],
   "source": [
    "X_train = X_scaled[:split]\n",
    "X_test = X_scaled[split : len(X_scaled)]\n",
    "y_train = y[:split]\n",
    "y_test = y[split : len(y)]"
   ]
  },
  {
   "cell_type": "code",
   "execution_count": 25,
   "metadata": {},
   "outputs": [
    {
     "data": {
      "application/javascript": [
       "\n",
       "            setTimeout(function() {\n",
       "                var nbb_cell_id = 25;\n",
       "                var nbb_unformatted_code = \"assert len(X_train) == len(y_train)\\nassert len(X_test) == len(y_test)\";\n",
       "                var nbb_formatted_code = \"assert len(X_train) == len(y_train)\\nassert len(X_test) == len(y_test)\";\n",
       "                var nbb_cells = Jupyter.notebook.get_cells();\n",
       "                for (var i = 0; i < nbb_cells.length; ++i) {\n",
       "                    if (nbb_cells[i].input_prompt_number == nbb_cell_id) {\n",
       "                        if (nbb_cells[i].get_text() == nbb_unformatted_code) {\n",
       "                             nbb_cells[i].set_text(nbb_formatted_code);\n",
       "                        }\n",
       "                        break;\n",
       "                    }\n",
       "                }\n",
       "            }, 500);\n",
       "            "
      ],
      "text/plain": [
       "<IPython.core.display.Javascript object>"
      ]
     },
     "metadata": {},
     "output_type": "display_data"
    }
   ],
   "source": [
    "assert len(X_train) == len(y_train)\n",
    "assert len(X_test) == len(y_test)"
   ]
  },
  {
   "cell_type": "markdown",
   "metadata": {},
   "source": [
    "#### Labeling\n",
    "\n",
    "We want to predict the stock price at a future time. We'll predict the stock price at time t + 1 relative to the stock price at time t."
   ]
  },
  {
   "cell_type": "markdown",
   "metadata": {},
   "source": [
    "As we're going to use an LSTM architecture, we know that it has memory and that it is maintained by setting the time step, basically how many steps in the past we want the LSTM to use.\n",
    "\n",
    "The time step  refers to how many steps in time we want the backpropagation algorithm to use when calculating gradients for weight updates during training.\n",
    "\n",
    "So we can use a method to create both the timestep and the output variable, the t + 1."
   ]
  },
  {
   "cell_type": "code",
   "execution_count": 26,
   "metadata": {},
   "outputs": [
    {
     "data": {
      "application/javascript": [
       "\n",
       "            setTimeout(function() {\n",
       "                var nbb_cell_id = 26;\n",
       "                var nbb_unformatted_code = \"n = 3\\nXtrain = []\\nytrain = []\\nXtest = []\\nytest = []\\nfor i in range(n, len(X_train)):\\n    Xtrain.append(X_train[i - n : i, : X_train.shape[1]])\\n    ytrain.append(y_train[i])  # predict next record\\nfor i in range(n, len(X_test)):\\n    Xtest.append(X_test[i - n : i, : X_test.shape[1]])\\n    ytest.append(y_test[i])  # predict next record\";\n",
       "                var nbb_formatted_code = \"n = 3\\nXtrain = []\\nytrain = []\\nXtest = []\\nytest = []\\nfor i in range(n, len(X_train)):\\n    Xtrain.append(X_train[i - n : i, : X_train.shape[1]])\\n    ytrain.append(y_train[i])  # predict next record\\nfor i in range(n, len(X_test)):\\n    Xtest.append(X_test[i - n : i, : X_test.shape[1]])\\n    ytest.append(y_test[i])  # predict next record\";\n",
       "                var nbb_cells = Jupyter.notebook.get_cells();\n",
       "                for (var i = 0; i < nbb_cells.length; ++i) {\n",
       "                    if (nbb_cells[i].input_prompt_number == nbb_cell_id) {\n",
       "                        if (nbb_cells[i].get_text() == nbb_unformatted_code) {\n",
       "                             nbb_cells[i].set_text(nbb_formatted_code);\n",
       "                        }\n",
       "                        break;\n",
       "                    }\n",
       "                }\n",
       "            }, 500);\n",
       "            "
      ],
      "text/plain": [
       "<IPython.core.display.Javascript object>"
      ]
     },
     "metadata": {},
     "output_type": "display_data"
    }
   ],
   "source": [
    "n = 3\n",
    "Xtrain = []\n",
    "ytrain = []\n",
    "Xtest = []\n",
    "ytest = []\n",
    "for i in range(n, len(X_train)):\n",
    "    Xtrain.append(X_train[i - n : i, : X_train.shape[1]])\n",
    "    ytrain.append(y_train[i])  # predict next record\n",
    "for i in range(n, len(X_test)):\n",
    "    Xtest.append(X_test[i - n : i, : X_test.shape[1]])\n",
    "    ytest.append(y_test[i])  # predict next record"
   ]
  },
  {
   "cell_type": "code",
   "execution_count": 27,
   "metadata": {},
   "outputs": [
    {
     "data": {
      "text/html": [
       "<div>\n",
       "<style scoped>\n",
       "    .dataframe tbody tr th:only-of-type {\n",
       "        vertical-align: middle;\n",
       "    }\n",
       "\n",
       "    .dataframe tbody tr th {\n",
       "        vertical-align: top;\n",
       "    }\n",
       "\n",
       "    .dataframe thead th {\n",
       "        text-align: right;\n",
       "    }\n",
       "</style>\n",
       "<table border=\"1\" class=\"dataframe\">\n",
       "  <thead>\n",
       "    <tr style=\"text-align: right;\">\n",
       "      <th></th>\n",
       "      <th>close</th>\n",
       "      <th>returns</th>\n",
       "      <th>log_returns</th>\n",
       "    </tr>\n",
       "    <tr>\n",
       "      <th>date</th>\n",
       "      <th></th>\n",
       "      <th></th>\n",
       "      <th></th>\n",
       "    </tr>\n",
       "  </thead>\n",
       "  <tbody>\n",
       "    <tr>\n",
       "      <th>2019-08-07 15:00:00</th>\n",
       "      <td>134.75</td>\n",
       "      <td>0.013997</td>\n",
       "      <td>0.013899</td>\n",
       "    </tr>\n",
       "    <tr>\n",
       "      <th>2019-08-07 16:00:00</th>\n",
       "      <td>133.88</td>\n",
       "      <td>-0.006456</td>\n",
       "      <td>-0.006477</td>\n",
       "    </tr>\n",
       "    <tr>\n",
       "      <th>2019-08-07 17:00:00</th>\n",
       "      <td>133.90</td>\n",
       "      <td>0.000149</td>\n",
       "      <td>0.000149</td>\n",
       "    </tr>\n",
       "    <tr>\n",
       "      <th>2019-08-07 18:00:00</th>\n",
       "      <td>134.83</td>\n",
       "      <td>0.006945</td>\n",
       "      <td>0.006921</td>\n",
       "    </tr>\n",
       "    <tr>\n",
       "      <th>2019-08-07 19:00:00</th>\n",
       "      <td>135.48</td>\n",
       "      <td>0.004821</td>\n",
       "      <td>0.004809</td>\n",
       "    </tr>\n",
       "  </tbody>\n",
       "</table>\n",
       "</div>"
      ],
      "text/plain": [
       "                      close   returns  log_returns\n",
       "date                                              \n",
       "2019-08-07 15:00:00  134.75  0.013997     0.013899\n",
       "2019-08-07 16:00:00  133.88 -0.006456    -0.006477\n",
       "2019-08-07 17:00:00  133.90  0.000149     0.000149\n",
       "2019-08-07 18:00:00  134.83  0.006945     0.006921\n",
       "2019-08-07 19:00:00  135.48  0.004821     0.004809"
      ]
     },
     "execution_count": 27,
     "metadata": {},
     "output_type": "execute_result"
    },
    {
     "data": {
      "application/javascript": [
       "\n",
       "            setTimeout(function() {\n",
       "                var nbb_cell_id = 27;\n",
       "                var nbb_unformatted_code = \"df.head(5)\";\n",
       "                var nbb_formatted_code = \"df.head(5)\";\n",
       "                var nbb_cells = Jupyter.notebook.get_cells();\n",
       "                for (var i = 0; i < nbb_cells.length; ++i) {\n",
       "                    if (nbb_cells[i].input_prompt_number == nbb_cell_id) {\n",
       "                        if (nbb_cells[i].get_text() == nbb_unformatted_code) {\n",
       "                             nbb_cells[i].set_text(nbb_formatted_code);\n",
       "                        }\n",
       "                        break;\n",
       "                    }\n",
       "                }\n",
       "            }, 500);\n",
       "            "
      ],
      "text/plain": [
       "<IPython.core.display.Javascript object>"
      ]
     },
     "metadata": {},
     "output_type": "display_data"
    }
   ],
   "source": [
    "df.head(5)"
   ]
  },
  {
   "cell_type": "code",
   "execution_count": 28,
   "metadata": {},
   "outputs": [
    {
     "data": {
      "text/plain": [
       "array([[0.02480029, 0.6063657 ],\n",
       "       [0.01442709, 0.50534309],\n",
       "       [0.01466555, 0.53819647]])"
      ]
     },
     "execution_count": 28,
     "metadata": {},
     "output_type": "execute_result"
    },
    {
     "data": {
      "application/javascript": [
       "\n",
       "            setTimeout(function() {\n",
       "                var nbb_cell_id = 28;\n",
       "                var nbb_unformatted_code = \"Xtrain[0]\";\n",
       "                var nbb_formatted_code = \"Xtrain[0]\";\n",
       "                var nbb_cells = Jupyter.notebook.get_cells();\n",
       "                for (var i = 0; i < nbb_cells.length; ++i) {\n",
       "                    if (nbb_cells[i].input_prompt_number == nbb_cell_id) {\n",
       "                        if (nbb_cells[i].get_text() == nbb_unformatted_code) {\n",
       "                             nbb_cells[i].set_text(nbb_formatted_code);\n",
       "                        }\n",
       "                        break;\n",
       "                    }\n",
       "                }\n",
       "            }, 500);\n",
       "            "
      ],
      "text/plain": [
       "<IPython.core.display.Javascript object>"
      ]
     },
     "metadata": {},
     "output_type": "display_data"
    }
   ],
   "source": [
    "Xtrain[0]"
   ]
  },
  {
   "cell_type": "code",
   "execution_count": 29,
   "metadata": {},
   "outputs": [
    {
     "data": {
      "text/plain": [
       "0.025754143317038736"
      ]
     },
     "execution_count": 29,
     "metadata": {},
     "output_type": "execute_result"
    },
    {
     "data": {
      "application/javascript": [
       "\n",
       "            setTimeout(function() {\n",
       "                var nbb_cell_id = 29;\n",
       "                var nbb_unformatted_code = \"ytrain[0]\";\n",
       "                var nbb_formatted_code = \"ytrain[0]\";\n",
       "                var nbb_cells = Jupyter.notebook.get_cells();\n",
       "                for (var i = 0; i < nbb_cells.length; ++i) {\n",
       "                    if (nbb_cells[i].input_prompt_number == nbb_cell_id) {\n",
       "                        if (nbb_cells[i].get_text() == nbb_unformatted_code) {\n",
       "                             nbb_cells[i].set_text(nbb_formatted_code);\n",
       "                        }\n",
       "                        break;\n",
       "                    }\n",
       "                }\n",
       "            }, 500);\n",
       "            "
      ],
      "text/plain": [
       "<IPython.core.display.Javascript object>"
      ]
     },
     "metadata": {},
     "output_type": "display_data"
    }
   ],
   "source": [
    "ytrain[0]"
   ]
  },
  {
   "cell_type": "code",
   "execution_count": 30,
   "metadata": {},
   "outputs": [
    {
     "data": {
      "application/javascript": [
       "\n",
       "            setTimeout(function() {\n",
       "                var nbb_cell_id = 30;\n",
       "                var nbb_unformatted_code = \"val = np.array(ytrain[0])\\nval = np.c_[val, np.zeros(val.shape)]\";\n",
       "                var nbb_formatted_code = \"val = np.array(ytrain[0])\\nval = np.c_[val, np.zeros(val.shape)]\";\n",
       "                var nbb_cells = Jupyter.notebook.get_cells();\n",
       "                for (var i = 0; i < nbb_cells.length; ++i) {\n",
       "                    if (nbb_cells[i].input_prompt_number == nbb_cell_id) {\n",
       "                        if (nbb_cells[i].get_text() == nbb_unformatted_code) {\n",
       "                             nbb_cells[i].set_text(nbb_formatted_code);\n",
       "                        }\n",
       "                        break;\n",
       "                    }\n",
       "                }\n",
       "            }, 500);\n",
       "            "
      ],
      "text/plain": [
       "<IPython.core.display.Javascript object>"
      ]
     },
     "metadata": {},
     "output_type": "display_data"
    }
   ],
   "source": [
    "val = np.array(ytrain[0])\n",
    "val = np.c_[val, np.zeros(val.shape)]"
   ]
  },
  {
   "cell_type": "code",
   "execution_count": 31,
   "metadata": {},
   "outputs": [
    {
     "data": {
      "text/plain": [
       "array([[ 1.34830000e+02, -1.08407857e-01]])"
      ]
     },
     "execution_count": 31,
     "metadata": {},
     "output_type": "execute_result"
    },
    {
     "data": {
      "application/javascript": [
       "\n",
       "            setTimeout(function() {\n",
       "                var nbb_cell_id = 31;\n",
       "                var nbb_unformatted_code = \"scaler.inverse_transform(val)\";\n",
       "                var nbb_formatted_code = \"scaler.inverse_transform(val)\";\n",
       "                var nbb_cells = Jupyter.notebook.get_cells();\n",
       "                for (var i = 0; i < nbb_cells.length; ++i) {\n",
       "                    if (nbb_cells[i].input_prompt_number == nbb_cell_id) {\n",
       "                        if (nbb_cells[i].get_text() == nbb_unformatted_code) {\n",
       "                             nbb_cells[i].set_text(nbb_formatted_code);\n",
       "                        }\n",
       "                        break;\n",
       "                    }\n",
       "                }\n",
       "            }, 500);\n",
       "            "
      ],
      "text/plain": [
       "<IPython.core.display.Javascript object>"
      ]
     },
     "metadata": {},
     "output_type": "display_data"
    }
   ],
   "source": [
    "scaler.inverse_transform(val)"
   ]
  },
  {
   "cell_type": "markdown",
   "metadata": {},
   "source": [
    "In an LSTM network the input for each LSTM layer needs to contain the following information:\n",
    "- The number of observations\n",
    "- The time steps\n",
    "- The features\n",
    "\n",
    "Therefore we need to add a temporal dimension compared to a classical network:\n",
    "\n",
    "(number of observations, number of steps, number of features per step)"
   ]
  },
  {
   "cell_type": "code",
   "execution_count": 32,
   "metadata": {},
   "outputs": [
    {
     "data": {
      "application/javascript": [
       "\n",
       "            setTimeout(function() {\n",
       "                var nbb_cell_id = 32;\n",
       "                var nbb_unformatted_code = \"Xtrain, ytrain = (np.array(Xtrain), np.array(ytrain))\\nXtrain = np.reshape(Xtrain, (Xtrain.shape[0], Xtrain.shape[1], Xtrain.shape[2]))\\n\\nXtest, ytest = (np.array(Xtest), np.array(ytest))\\nXtest = np.reshape(Xtest, (Xtest.shape[0], Xtest.shape[1], Xtest.shape[2]))\";\n",
       "                var nbb_formatted_code = \"Xtrain, ytrain = (np.array(Xtrain), np.array(ytrain))\\nXtrain = np.reshape(Xtrain, (Xtrain.shape[0], Xtrain.shape[1], Xtrain.shape[2]))\\n\\nXtest, ytest = (np.array(Xtest), np.array(ytest))\\nXtest = np.reshape(Xtest, (Xtest.shape[0], Xtest.shape[1], Xtest.shape[2]))\";\n",
       "                var nbb_cells = Jupyter.notebook.get_cells();\n",
       "                for (var i = 0; i < nbb_cells.length; ++i) {\n",
       "                    if (nbb_cells[i].input_prompt_number == nbb_cell_id) {\n",
       "                        if (nbb_cells[i].get_text() == nbb_unformatted_code) {\n",
       "                             nbb_cells[i].set_text(nbb_formatted_code);\n",
       "                        }\n",
       "                        break;\n",
       "                    }\n",
       "                }\n",
       "            }, 500);\n",
       "            "
      ],
      "text/plain": [
       "<IPython.core.display.Javascript object>"
      ]
     },
     "metadata": {},
     "output_type": "display_data"
    }
   ],
   "source": [
    "Xtrain, ytrain = (np.array(Xtrain), np.array(ytrain))\n",
    "Xtrain = np.reshape(Xtrain, (Xtrain.shape[0], Xtrain.shape[1], Xtrain.shape[2]))\n",
    "\n",
    "Xtest, ytest = (np.array(Xtest), np.array(ytest))\n",
    "Xtest = np.reshape(Xtest, (Xtest.shape[0], Xtest.shape[1], Xtest.shape[2]))"
   ]
  },
  {
   "cell_type": "code",
   "execution_count": 33,
   "metadata": {
    "scrolled": true
   },
   "outputs": [
    {
     "name": "stdout",
     "output_type": "stream",
     "text": [
      "(1398, 3, 2)\n",
      "(1398,)\n",
      "---\n",
      "(348, 3, 2)\n",
      "(348,)\n"
     ]
    },
    {
     "data": {
      "application/javascript": [
       "\n",
       "            setTimeout(function() {\n",
       "                var nbb_cell_id = 33;\n",
       "                var nbb_unformatted_code = \"print(Xtrain.shape)\\nprint(ytrain.shape)\\nprint(\\\"---\\\")\\nprint(Xtest.shape)\\nprint(ytest.shape)\";\n",
       "                var nbb_formatted_code = \"print(Xtrain.shape)\\nprint(ytrain.shape)\\nprint(\\\"---\\\")\\nprint(Xtest.shape)\\nprint(ytest.shape)\";\n",
       "                var nbb_cells = Jupyter.notebook.get_cells();\n",
       "                for (var i = 0; i < nbb_cells.length; ++i) {\n",
       "                    if (nbb_cells[i].input_prompt_number == nbb_cell_id) {\n",
       "                        if (nbb_cells[i].get_text() == nbb_unformatted_code) {\n",
       "                             nbb_cells[i].set_text(nbb_formatted_code);\n",
       "                        }\n",
       "                        break;\n",
       "                    }\n",
       "                }\n",
       "            }, 500);\n",
       "            "
      ],
      "text/plain": [
       "<IPython.core.display.Javascript object>"
      ]
     },
     "metadata": {},
     "output_type": "display_data"
    }
   ],
   "source": [
    "print(Xtrain.shape)\n",
    "print(ytrain.shape)\n",
    "print(\"---\")\n",
    "print(Xtest.shape)\n",
    "print(ytest.shape)"
   ]
  },
  {
   "cell_type": "markdown",
   "metadata": {},
   "source": [
    "#### LSTM Model"
   ]
  },
  {
   "cell_type": "code",
   "execution_count": 44,
   "metadata": {},
   "outputs": [
    {
     "data": {
      "application/javascript": [
       "\n",
       "            setTimeout(function() {\n",
       "                var nbb_cell_id = 44;\n",
       "                var nbb_unformatted_code = \"#pip install tensorflow\";\n",
       "                var nbb_formatted_code = \"# pip install tensorflow\";\n",
       "                var nbb_cells = Jupyter.notebook.get_cells();\n",
       "                for (var i = 0; i < nbb_cells.length; ++i) {\n",
       "                    if (nbb_cells[i].input_prompt_number == nbb_cell_id) {\n",
       "                        if (nbb_cells[i].get_text() == nbb_unformatted_code) {\n",
       "                             nbb_cells[i].set_text(nbb_formatted_code);\n",
       "                        }\n",
       "                        break;\n",
       "                    }\n",
       "                }\n",
       "            }, 500);\n",
       "            "
      ],
      "text/plain": [
       "<IPython.core.display.Javascript object>"
      ]
     },
     "metadata": {},
     "output_type": "display_data"
    }
   ],
   "source": [
    "# pip install tensorflow"
   ]
  },
  {
   "cell_type": "code",
   "execution_count": 35,
   "metadata": {},
   "outputs": [
    {
     "data": {
      "application/javascript": [
       "\n",
       "            setTimeout(function() {\n",
       "                var nbb_cell_id = 35;\n",
       "                var nbb_unformatted_code = \"from keras.models import Sequential\\nfrom keras.layers import LSTM, Dense\";\n",
       "                var nbb_formatted_code = \"from keras.models import Sequential\\nfrom keras.layers import LSTM, Dense\";\n",
       "                var nbb_cells = Jupyter.notebook.get_cells();\n",
       "                for (var i = 0; i < nbb_cells.length; ++i) {\n",
       "                    if (nbb_cells[i].input_prompt_number == nbb_cell_id) {\n",
       "                        if (nbb_cells[i].get_text() == nbb_unformatted_code) {\n",
       "                             nbb_cells[i].set_text(nbb_formatted_code);\n",
       "                        }\n",
       "                        break;\n",
       "                    }\n",
       "                }\n",
       "            }, 500);\n",
       "            "
      ],
      "text/plain": [
       "<IPython.core.display.Javascript object>"
      ]
     },
     "metadata": {},
     "output_type": "display_data"
    }
   ],
   "source": [
    "from keras.models import Sequential\n",
    "from keras.layers import LSTM, Dense"
   ]
  },
  {
   "cell_type": "code",
   "execution_count": 36,
   "metadata": {
    "scrolled": true
   },
   "outputs": [
    {
     "name": "stdout",
     "output_type": "stream",
     "text": [
      "Epoch 1/100\n",
      "88/88 [==============================] - 4s 11ms/step - loss: 0.0425 - val_loss: 0.1169\n",
      "Epoch 2/100\n",
      "88/88 [==============================] - 0s 3ms/step - loss: 0.0107 - val_loss: 0.0489\n",
      "Epoch 3/100\n",
      "88/88 [==============================] - 0s 3ms/step - loss: 0.0044 - val_loss: 0.0091\n",
      "Epoch 4/100\n",
      "88/88 [==============================] - 0s 3ms/step - loss: 0.0012 - val_loss: 6.7900e-04\n",
      "Epoch 5/100\n",
      "88/88 [==============================] - 0s 3ms/step - loss: 4.8461e-04 - val_loss: 6.0684e-04\n",
      "Epoch 6/100\n",
      "88/88 [==============================] - 0s 3ms/step - loss: 4.3431e-04 - val_loss: 6.4236e-04\n",
      "Epoch 7/100\n",
      "88/88 [==============================] - 0s 3ms/step - loss: 4.2673e-04 - val_loss: 6.2420e-04\n",
      "Epoch 8/100\n",
      "88/88 [==============================] - 0s 3ms/step - loss: 4.1804e-04 - val_loss: 4.8517e-04\n",
      "Epoch 9/100\n",
      "88/88 [==============================] - 0s 3ms/step - loss: 4.1692e-04 - val_loss: 4.2224e-04\n",
      "Epoch 10/100\n",
      "88/88 [==============================] - 0s 3ms/step - loss: 4.0096e-04 - val_loss: 4.1880e-04\n",
      "Epoch 11/100\n",
      "88/88 [==============================] - 0s 3ms/step - loss: 3.9227e-04 - val_loss: 4.0569e-04\n",
      "Epoch 12/100\n",
      "88/88 [==============================] - 0s 3ms/step - loss: 3.8597e-04 - val_loss: 4.0475e-04\n",
      "Epoch 13/100\n",
      "88/88 [==============================] - 0s 3ms/step - loss: 3.7637e-04 - val_loss: 4.1067e-04\n",
      "Epoch 14/100\n",
      "88/88 [==============================] - 0s 3ms/step - loss: 3.7498e-04 - val_loss: 4.1428e-04\n",
      "Epoch 15/100\n",
      "88/88 [==============================] - 0s 3ms/step - loss: 3.6328e-04 - val_loss: 4.9891e-04\n",
      "Epoch 16/100\n",
      "88/88 [==============================] - 0s 4ms/step - loss: 3.6045e-04 - val_loss: 5.4073e-04\n",
      "Epoch 17/100\n",
      "88/88 [==============================] - 0s 3ms/step - loss: 3.5283e-04 - val_loss: 4.7816e-04\n",
      "Epoch 18/100\n",
      "88/88 [==============================] - 0s 3ms/step - loss: 3.5185e-04 - val_loss: 5.4738e-04\n",
      "Epoch 19/100\n",
      "88/88 [==============================] - 0s 3ms/step - loss: 3.4486e-04 - val_loss: 7.6941e-04\n",
      "Epoch 20/100\n",
      "88/88 [==============================] - 0s 3ms/step - loss: 3.4481e-04 - val_loss: 6.2910e-04\n",
      "Epoch 21/100\n",
      "88/88 [==============================] - 0s 3ms/step - loss: 3.3398e-04 - val_loss: 7.5201e-04\n",
      "Epoch 22/100\n",
      "88/88 [==============================] - 0s 3ms/step - loss: 3.3473e-04 - val_loss: 8.1274e-04\n",
      "Epoch 23/100\n",
      "88/88 [==============================] - 0s 4ms/step - loss: 3.3203e-04 - val_loss: 9.4815e-04\n",
      "Epoch 24/100\n",
      "88/88 [==============================] - 0s 3ms/step - loss: 3.2790e-04 - val_loss: 7.9588e-04\n",
      "Epoch 25/100\n",
      "88/88 [==============================] - 0s 3ms/step - loss: 3.3078e-04 - val_loss: 0.0013\n",
      "Epoch 26/100\n",
      "88/88 [==============================] - 0s 3ms/step - loss: 3.2337e-04 - val_loss: 0.0011\n",
      "Epoch 27/100\n",
      "88/88 [==============================] - 0s 4ms/step - loss: 3.2002e-04 - val_loss: 9.0320e-04\n",
      "Epoch 28/100\n",
      "88/88 [==============================] - 0s 3ms/step - loss: 3.1819e-04 - val_loss: 0.0011\n",
      "Epoch 29/100\n",
      "88/88 [==============================] - 0s 3ms/step - loss: 3.1925e-04 - val_loss: 0.0011\n",
      "Epoch 30/100\n",
      "88/88 [==============================] - 0s 4ms/step - loss: 3.1503e-04 - val_loss: 8.0569e-04\n",
      "Epoch 31/100\n",
      "88/88 [==============================] - 0s 3ms/step - loss: 3.1174e-04 - val_loss: 0.0013\n",
      "Epoch 32/100\n",
      "88/88 [==============================] - 0s 3ms/step - loss: 3.0866e-04 - val_loss: 0.0011\n",
      "Epoch 33/100\n",
      "88/88 [==============================] - 0s 3ms/step - loss: 3.0434e-04 - val_loss: 0.0015\n",
      "Epoch 34/100\n",
      "88/88 [==============================] - 0s 3ms/step - loss: 3.0431e-04 - val_loss: 0.0011\n",
      "Epoch 35/100\n",
      "88/88 [==============================] - 0s 3ms/step - loss: 3.0421e-04 - val_loss: 0.0012\n",
      "Epoch 36/100\n",
      "88/88 [==============================] - 0s 3ms/step - loss: 3.0424e-04 - val_loss: 0.0012\n",
      "Epoch 37/100\n",
      "88/88 [==============================] - 0s 3ms/step - loss: 3.0760e-04 - val_loss: 0.0011\n",
      "Epoch 38/100\n",
      "88/88 [==============================] - 0s 3ms/step - loss: 2.9766e-04 - val_loss: 0.0013\n",
      "Epoch 39/100\n",
      "88/88 [==============================] - 0s 3ms/step - loss: 2.9640e-04 - val_loss: 0.0012\n",
      "Epoch 40/100\n",
      "88/88 [==============================] - 0s 3ms/step - loss: 2.9960e-04 - val_loss: 0.0013\n",
      "Epoch 41/100\n",
      "88/88 [==============================] - 0s 4ms/step - loss: 3.0023e-04 - val_loss: 0.0018\n",
      "Epoch 42/100\n",
      "88/88 [==============================] - 0s 2ms/step - loss: 2.9191e-04 - val_loss: 0.0014\n",
      "Epoch 43/100\n",
      "88/88 [==============================] - 0s 3ms/step - loss: 2.9394e-04 - val_loss: 0.0011\n",
      "Epoch 44/100\n",
      "88/88 [==============================] - 0s 2ms/step - loss: 2.9814e-04 - val_loss: 0.0012\n",
      "Epoch 45/100\n",
      "88/88 [==============================] - 0s 3ms/step - loss: 2.8723e-04 - val_loss: 0.0014\n",
      "Epoch 46/100\n",
      "88/88 [==============================] - 0s 3ms/step - loss: 2.9346e-04 - val_loss: 0.0018\n",
      "Epoch 47/100\n",
      "88/88 [==============================] - 0s 3ms/step - loss: 2.9297e-04 - val_loss: 0.0011\n",
      "Epoch 48/100\n",
      "88/88 [==============================] - 0s 3ms/step - loss: 2.9027e-04 - val_loss: 0.0012\n",
      "Epoch 49/100\n",
      "88/88 [==============================] - 0s 3ms/step - loss: 2.7981e-04 - val_loss: 0.0010\n",
      "Epoch 50/100\n",
      "88/88 [==============================] - 0s 3ms/step - loss: 2.8164e-04 - val_loss: 0.0015\n",
      "Epoch 51/100\n",
      "88/88 [==============================] - 0s 3ms/step - loss: 2.9083e-04 - val_loss: 0.0013\n",
      "Epoch 52/100\n",
      "88/88 [==============================] - 0s 2ms/step - loss: 2.8318e-04 - val_loss: 0.0011\n",
      "Epoch 53/100\n",
      "88/88 [==============================] - 0s 3ms/step - loss: 2.8864e-04 - val_loss: 0.0013\n",
      "Epoch 54/100\n",
      "88/88 [==============================] - 0s 3ms/step - loss: 2.8028e-04 - val_loss: 0.0017\n",
      "Epoch 55/100\n",
      "88/88 [==============================] - 0s 3ms/step - loss: 2.8274e-04 - val_loss: 0.0011\n",
      "Epoch 56/100\n",
      "88/88 [==============================] - 0s 3ms/step - loss: 2.7809e-04 - val_loss: 0.0015\n",
      "Epoch 57/100\n",
      "88/88 [==============================] - 0s 4ms/step - loss: 2.7800e-04 - val_loss: 0.0011\n",
      "Epoch 58/100\n",
      "88/88 [==============================] - 0s 3ms/step - loss: 2.8558e-04 - val_loss: 0.0010\n",
      "Epoch 59/100\n",
      "88/88 [==============================] - 0s 3ms/step - loss: 2.8042e-04 - val_loss: 0.0012\n",
      "Epoch 60/100\n",
      "88/88 [==============================] - 0s 2ms/step - loss: 2.8915e-04 - val_loss: 0.0018\n",
      "Epoch 61/100\n",
      "88/88 [==============================] - 0s 3ms/step - loss: 2.8216e-04 - val_loss: 9.0889e-04\n",
      "Epoch 62/100\n",
      "88/88 [==============================] - 0s 3ms/step - loss: 2.7439e-04 - val_loss: 9.1595e-04\n",
      "Epoch 63/100\n",
      "88/88 [==============================] - 0s 3ms/step - loss: 2.8320e-04 - val_loss: 0.0012\n",
      "Epoch 64/100\n",
      "88/88 [==============================] - 0s 3ms/step - loss: 2.7345e-04 - val_loss: 0.0015\n",
      "Epoch 65/100\n",
      "88/88 [==============================] - 0s 3ms/step - loss: 2.7467e-04 - val_loss: 7.1406e-04\n",
      "Epoch 66/100\n",
      "88/88 [==============================] - 0s 3ms/step - loss: 2.7915e-04 - val_loss: 9.1808e-04\n",
      "Epoch 67/100\n",
      "88/88 [==============================] - 0s 3ms/step - loss: 2.7330e-04 - val_loss: 9.2718e-04\n",
      "Epoch 68/100\n",
      "88/88 [==============================] - 0s 3ms/step - loss: 2.7181e-04 - val_loss: 0.0011\n",
      "Epoch 69/100\n",
      "88/88 [==============================] - 0s 3ms/step - loss: 2.7376e-04 - val_loss: 0.0010\n",
      "Epoch 70/100\n",
      "88/88 [==============================] - 0s 3ms/step - loss: 2.6785e-04 - val_loss: 0.0013\n",
      "Epoch 71/100\n",
      "88/88 [==============================] - 0s 3ms/step - loss: 2.7841e-04 - val_loss: 7.1041e-04\n",
      "Epoch 72/100\n",
      "88/88 [==============================] - 0s 2ms/step - loss: 2.7913e-04 - val_loss: 0.0010\n",
      "Epoch 73/100\n",
      "88/88 [==============================] - 0s 3ms/step - loss: 2.7485e-04 - val_loss: 0.0010\n",
      "Epoch 74/100\n",
      "88/88 [==============================] - 0s 3ms/step - loss: 2.7406e-04 - val_loss: 9.7314e-04\n",
      "Epoch 75/100\n",
      "88/88 [==============================] - 0s 3ms/step - loss: 2.7382e-04 - val_loss: 0.0015\n",
      "Epoch 76/100\n",
      "88/88 [==============================] - 0s 2ms/step - loss: 2.7201e-04 - val_loss: 9.7595e-04\n",
      "Epoch 77/100\n",
      "88/88 [==============================] - 0s 3ms/step - loss: 2.7211e-04 - val_loss: 0.0011\n",
      "Epoch 78/100\n",
      "88/88 [==============================] - 0s 3ms/step - loss: 2.9829e-04 - val_loss: 0.0012\n"
     ]
    },
    {
     "name": "stdout",
     "output_type": "stream",
     "text": [
      "Epoch 79/100\n",
      "88/88 [==============================] - 0s 3ms/step - loss: 2.8699e-04 - val_loss: 0.0010\n",
      "Epoch 80/100\n",
      "88/88 [==============================] - 0s 3ms/step - loss: 2.7249e-04 - val_loss: 8.7809e-04\n",
      "Epoch 81/100\n",
      "88/88 [==============================] - 0s 2ms/step - loss: 2.6920e-04 - val_loss: 0.0011\n",
      "Epoch 82/100\n",
      "88/88 [==============================] - 0s 3ms/step - loss: 2.7747e-04 - val_loss: 8.9895e-04\n",
      "Epoch 83/100\n",
      "88/88 [==============================] - 0s 3ms/step - loss: 2.7841e-04 - val_loss: 8.5026e-04\n",
      "Epoch 84/100\n",
      "88/88 [==============================] - 0s 3ms/step - loss: 2.7191e-04 - val_loss: 8.5883e-04\n",
      "Epoch 85/100\n",
      "88/88 [==============================] - 0s 2ms/step - loss: 2.7119e-04 - val_loss: 9.4700e-04\n",
      "Epoch 86/100\n",
      "88/88 [==============================] - 0s 3ms/step - loss: 2.7452e-04 - val_loss: 0.0010\n",
      "Epoch 87/100\n",
      "88/88 [==============================] - 0s 3ms/step - loss: 2.7116e-04 - val_loss: 0.0013\n",
      "Epoch 88/100\n",
      "88/88 [==============================] - 0s 3ms/step - loss: 2.7631e-04 - val_loss: 0.0011\n",
      "Epoch 89/100\n",
      "88/88 [==============================] - 0s 3ms/step - loss: 2.6790e-04 - val_loss: 7.1849e-04\n",
      "Epoch 90/100\n",
      "88/88 [==============================] - 0s 3ms/step - loss: 2.7664e-04 - val_loss: 7.7720e-04\n",
      "Epoch 91/100\n",
      "88/88 [==============================] - 0s 3ms/step - loss: 2.7396e-04 - val_loss: 0.0013\n",
      "Epoch 92/100\n",
      "88/88 [==============================] - 0s 3ms/step - loss: 2.6937e-04 - val_loss: 0.0012\n",
      "Epoch 93/100\n",
      "88/88 [==============================] - 0s 3ms/step - loss: 2.7555e-04 - val_loss: 0.0012\n",
      "Epoch 94/100\n",
      "88/88 [==============================] - 0s 3ms/step - loss: 2.7588e-04 - val_loss: 0.0014\n",
      "Epoch 95/100\n",
      "88/88 [==============================] - 0s 3ms/step - loss: 2.7320e-04 - val_loss: 9.2187e-04\n",
      "Epoch 96/100\n",
      "88/88 [==============================] - 0s 3ms/step - loss: 2.6908e-04 - val_loss: 0.0011\n",
      "Epoch 97/100\n",
      "88/88 [==============================] - 0s 3ms/step - loss: 2.7544e-04 - val_loss: 0.0014\n",
      "Epoch 98/100\n",
      "88/88 [==============================] - 0s 3ms/step - loss: 2.7058e-04 - val_loss: 0.0010\n",
      "Epoch 99/100\n",
      "88/88 [==============================] - 0s 3ms/step - loss: 2.7424e-04 - val_loss: 0.0014\n",
      "Epoch 100/100\n",
      "88/88 [==============================] - 0s 3ms/step - loss: 2.7105e-04 - val_loss: 0.0014\n"
     ]
    },
    {
     "data": {
      "text/plain": [
       "<keras.callbacks.History at 0x1ec66ceb6d0>"
      ]
     },
     "execution_count": 36,
     "metadata": {},
     "output_type": "execute_result"
    },
    {
     "data": {
      "application/javascript": [
       "\n",
       "            setTimeout(function() {\n",
       "                var nbb_cell_id = 36;\n",
       "                var nbb_unformatted_code = \"model = Sequential()\\nmodel.add(LSTM(4, input_shape=(Xtrain.shape[1], Xtrain.shape[2])))\\nmodel.add(Dense(1))\\nmodel.compile(loss=\\\"mean_squared_error\\\", optimizer=\\\"adam\\\")\\nmodel.fit(\\n    Xtrain, ytrain, epochs=100, validation_data=(Xtest, ytest), batch_size=16, verbose=1\\n)\";\n",
       "                var nbb_formatted_code = \"model = Sequential()\\nmodel.add(LSTM(4, input_shape=(Xtrain.shape[1], Xtrain.shape[2])))\\nmodel.add(Dense(1))\\nmodel.compile(loss=\\\"mean_squared_error\\\", optimizer=\\\"adam\\\")\\nmodel.fit(\\n    Xtrain, ytrain, epochs=100, validation_data=(Xtest, ytest), batch_size=16, verbose=1\\n)\";\n",
       "                var nbb_cells = Jupyter.notebook.get_cells();\n",
       "                for (var i = 0; i < nbb_cells.length; ++i) {\n",
       "                    if (nbb_cells[i].input_prompt_number == nbb_cell_id) {\n",
       "                        if (nbb_cells[i].get_text() == nbb_unformatted_code) {\n",
       "                             nbb_cells[i].set_text(nbb_formatted_code);\n",
       "                        }\n",
       "                        break;\n",
       "                    }\n",
       "                }\n",
       "            }, 500);\n",
       "            "
      ],
      "text/plain": [
       "<IPython.core.display.Javascript object>"
      ]
     },
     "metadata": {},
     "output_type": "display_data"
    }
   ],
   "source": [
    "model = Sequential()\n",
    "model.add(LSTM(4, input_shape=(Xtrain.shape[1], Xtrain.shape[2])))\n",
    "model.add(Dense(1))\n",
    "model.compile(loss=\"mean_squared_error\", optimizer=\"adam\")\n",
    "model.fit(\n",
    "    Xtrain, ytrain, epochs=100, validation_data=(Xtest, ytest), batch_size=16, verbose=1\n",
    ")"
   ]
  },
  {
   "cell_type": "code",
   "execution_count": 37,
   "metadata": {},
   "outputs": [
    {
     "name": "stdout",
     "output_type": "stream",
     "text": [
      "Model: \"sequential\"\n",
      "_________________________________________________________________\n",
      " Layer (type)                Output Shape              Param #   \n",
      "=================================================================\n",
      " lstm (LSTM)                 (None, 4)                 112       \n",
      "                                                                 \n",
      " dense (Dense)               (None, 1)                 5         \n",
      "                                                                 \n",
      "=================================================================\n",
      "Total params: 117\n",
      "Trainable params: 117\n",
      "Non-trainable params: 0\n",
      "_________________________________________________________________\n"
     ]
    },
    {
     "data": {
      "application/javascript": [
       "\n",
       "            setTimeout(function() {\n",
       "                var nbb_cell_id = 37;\n",
       "                var nbb_unformatted_code = \"model.summary()\";\n",
       "                var nbb_formatted_code = \"model.summary()\";\n",
       "                var nbb_cells = Jupyter.notebook.get_cells();\n",
       "                for (var i = 0; i < nbb_cells.length; ++i) {\n",
       "                    if (nbb_cells[i].input_prompt_number == nbb_cell_id) {\n",
       "                        if (nbb_cells[i].get_text() == nbb_unformatted_code) {\n",
       "                             nbb_cells[i].set_text(nbb_formatted_code);\n",
       "                        }\n",
       "                        break;\n",
       "                    }\n",
       "                }\n",
       "            }, 500);\n",
       "            "
      ],
      "text/plain": [
       "<IPython.core.display.Javascript object>"
      ]
     },
     "metadata": {},
     "output_type": "display_data"
    }
   ],
   "source": [
    "model.summary()"
   ]
  },
  {
   "cell_type": "code",
   "execution_count": 38,
   "metadata": {},
   "outputs": [
    {
     "name": "stdout",
     "output_type": "stream",
     "text": [
      "44/44 [==============================] - 2s 1ms/step\n",
      "11/11 [==============================] - 0s 1ms/step\n"
     ]
    },
    {
     "data": {
      "application/javascript": [
       "\n",
       "            setTimeout(function() {\n",
       "                var nbb_cell_id = 38;\n",
       "                var nbb_unformatted_code = \"trainPredict = model.predict(Xtrain)\\ntestPredict = model.predict(Xtest)\";\n",
       "                var nbb_formatted_code = \"trainPredict = model.predict(Xtrain)\\ntestPredict = model.predict(Xtest)\";\n",
       "                var nbb_cells = Jupyter.notebook.get_cells();\n",
       "                for (var i = 0; i < nbb_cells.length; ++i) {\n",
       "                    if (nbb_cells[i].input_prompt_number == nbb_cell_id) {\n",
       "                        if (nbb_cells[i].get_text() == nbb_unformatted_code) {\n",
       "                             nbb_cells[i].set_text(nbb_formatted_code);\n",
       "                        }\n",
       "                        break;\n",
       "                    }\n",
       "                }\n",
       "            }, 500);\n",
       "            "
      ],
      "text/plain": [
       "<IPython.core.display.Javascript object>"
      ]
     },
     "metadata": {},
     "output_type": "display_data"
    }
   ],
   "source": [
    "trainPredict = model.predict(Xtrain)\n",
    "testPredict = model.predict(Xtest)\n",
    "\n"
   ]
  },
  {
   "cell_type": "code",
   "execution_count": 39,
   "metadata": {},
   "outputs": [
    {
     "data": {
      "application/javascript": [
       "\n",
       "            setTimeout(function() {\n",
       "                var nbb_cell_id = 39;\n",
       "                var nbb_unformatted_code = \"trainPredict = np.c_[trainPredict, np.zeros(trainPredict.shape)]\\ntestPredict = np.c_[testPredict, np.zeros(testPredict.shape)]\";\n",
       "                var nbb_formatted_code = \"trainPredict = np.c_[trainPredict, np.zeros(trainPredict.shape)]\\ntestPredict = np.c_[testPredict, np.zeros(testPredict.shape)]\";\n",
       "                var nbb_cells = Jupyter.notebook.get_cells();\n",
       "                for (var i = 0; i < nbb_cells.length; ++i) {\n",
       "                    if (nbb_cells[i].input_prompt_number == nbb_cell_id) {\n",
       "                        if (nbb_cells[i].get_text() == nbb_unformatted_code) {\n",
       "                             nbb_cells[i].set_text(nbb_formatted_code);\n",
       "                        }\n",
       "                        break;\n",
       "                    }\n",
       "                }\n",
       "            }, 500);\n",
       "            "
      ],
      "text/plain": [
       "<IPython.core.display.Javascript object>"
      ]
     },
     "metadata": {},
     "output_type": "display_data"
    }
   ],
   "source": [
    "trainPredict = np.c_[trainPredict, np.zeros(trainPredict.shape)]\n",
    "testPredict = np.c_[testPredict, np.zeros(testPredict.shape)]"
   ]
  },
  {
   "cell_type": "code",
   "execution_count": 40,
   "metadata": {},
   "outputs": [
    {
     "data": {
      "application/javascript": [
       "\n",
       "            setTimeout(function() {\n",
       "                var nbb_cell_id = 40;\n",
       "                var nbb_unformatted_code = \"# invert predictions\\ntrainPredict = scaler.inverse_transform(trainPredict)\\ntrainPredict = [x[0] for x in trainPredict]\\n\\ntestPredict = scaler.inverse_transform(testPredict)\\ntestPredict = [x[0] for x in testPredict]\";\n",
       "                var nbb_formatted_code = \"# invert predictions\\ntrainPredict = scaler.inverse_transform(trainPredict)\\ntrainPredict = [x[0] for x in trainPredict]\\n\\ntestPredict = scaler.inverse_transform(testPredict)\\ntestPredict = [x[0] for x in testPredict]\";\n",
       "                var nbb_cells = Jupyter.notebook.get_cells();\n",
       "                for (var i = 0; i < nbb_cells.length; ++i) {\n",
       "                    if (nbb_cells[i].input_prompt_number == nbb_cell_id) {\n",
       "                        if (nbb_cells[i].get_text() == nbb_unformatted_code) {\n",
       "                             nbb_cells[i].set_text(nbb_formatted_code);\n",
       "                        }\n",
       "                        break;\n",
       "                    }\n",
       "                }\n",
       "            }, 500);\n",
       "            "
      ],
      "text/plain": [
       "<IPython.core.display.Javascript object>"
      ]
     },
     "metadata": {},
     "output_type": "display_data"
    }
   ],
   "source": [
    "# invert predictions\n",
    "trainPredict = scaler.inverse_transform(trainPredict)\n",
    "trainPredict = [x[0] for x in trainPredict]\n",
    "\n",
    "testPredict = scaler.inverse_transform(testPredict)\n",
    "testPredict = [x[0] for x in testPredict]\n"
   ]
  },
  {
   "cell_type": "code",
   "execution_count": 41,
   "metadata": {},
   "outputs": [
    {
     "name": "stdout",
     "output_type": "stream",
     "text": [
      "[134.65317274438215, 134.96540694369003, 135.59994044382123, 135.7236564118415, 136.8624724470079]\n",
      "[182.74680401027203, 182.56819825351238, 182.29574049055577, 181.45598149359228, 178.68374300181867]\n"
     ]
    },
    {
     "data": {
      "application/javascript": [
       "\n",
       "            setTimeout(function() {\n",
       "                var nbb_cell_id = 41;\n",
       "                var nbb_unformatted_code = \"print(trainPredict[:5])\\nprint(testPredict[:5])\";\n",
       "                var nbb_formatted_code = \"print(trainPredict[:5])\\nprint(testPredict[:5])\";\n",
       "                var nbb_cells = Jupyter.notebook.get_cells();\n",
       "                for (var i = 0; i < nbb_cells.length; ++i) {\n",
       "                    if (nbb_cells[i].input_prompt_number == nbb_cell_id) {\n",
       "                        if (nbb_cells[i].get_text() == nbb_unformatted_code) {\n",
       "                             nbb_cells[i].set_text(nbb_formatted_code);\n",
       "                        }\n",
       "                        break;\n",
       "                    }\n",
       "                }\n",
       "            }, 500);\n",
       "            "
      ],
      "text/plain": [
       "<IPython.core.display.Javascript object>"
      ]
     },
     "metadata": {},
     "output_type": "display_data"
    }
   ],
   "source": [
    "print(trainPredict[:5])\n",
    "print(testPredict[:5])"
   ]
  },
  {
   "cell_type": "code",
   "execution_count": 42,
   "metadata": {},
   "outputs": [
    {
     "data": {
      "application/javascript": [
       "\n",
       "            setTimeout(function() {\n",
       "                var nbb_cell_id = 42;\n",
       "                var nbb_unformatted_code = \"from sklearn.metrics import mean_squared_error\";\n",
       "                var nbb_formatted_code = \"from sklearn.metrics import mean_squared_error\";\n",
       "                var nbb_cells = Jupyter.notebook.get_cells();\n",
       "                for (var i = 0; i < nbb_cells.length; ++i) {\n",
       "                    if (nbb_cells[i].input_prompt_number == nbb_cell_id) {\n",
       "                        if (nbb_cells[i].get_text() == nbb_unformatted_code) {\n",
       "                             nbb_cells[i].set_text(nbb_formatted_code);\n",
       "                        }\n",
       "                        break;\n",
       "                    }\n",
       "                }\n",
       "            }, 500);\n",
       "            "
      ],
      "text/plain": [
       "<IPython.core.display.Javascript object>"
      ]
     },
     "metadata": {},
     "output_type": "display_data"
    }
   ],
   "source": [
    "from sklearn.metrics import mean_squared_error"
   ]
  },
  {
   "cell_type": "code",
   "execution_count": 43,
   "metadata": {},
   "outputs": [
    {
     "name": "stdout",
     "output_type": "stream",
     "text": [
      "Train Score: 156.20 RMSE\n",
      "Test Score: 196.04 RMSE\n"
     ]
    },
    {
     "data": {
      "application/javascript": [
       "\n",
       "            setTimeout(function() {\n",
       "                var nbb_cell_id = 43;\n",
       "                var nbb_unformatted_code = \"# calculate root mean squared error\\ntrainScore = mean_squared_error([x[0][0] for x in Xtrain], trainPredict, squared=False)\\nprint(\\\"Train Score: %.2f RMSE\\\" % (trainScore))\\n\\ntestScore = mean_squared_error([x[0][0] for x in Xtest], testPredict, squared=False)\\nprint(\\\"Test Score: %.2f RMSE\\\" % (testScore))\";\n",
       "                var nbb_formatted_code = \"# calculate root mean squared error\\ntrainScore = mean_squared_error([x[0][0] for x in Xtrain], trainPredict, squared=False)\\nprint(\\\"Train Score: %.2f RMSE\\\" % (trainScore))\\n\\ntestScore = mean_squared_error([x[0][0] for x in Xtest], testPredict, squared=False)\\nprint(\\\"Test Score: %.2f RMSE\\\" % (testScore))\";\n",
       "                var nbb_cells = Jupyter.notebook.get_cells();\n",
       "                for (var i = 0; i < nbb_cells.length; ++i) {\n",
       "                    if (nbb_cells[i].input_prompt_number == nbb_cell_id) {\n",
       "                        if (nbb_cells[i].get_text() == nbb_unformatted_code) {\n",
       "                             nbb_cells[i].set_text(nbb_formatted_code);\n",
       "                        }\n",
       "                        break;\n",
       "                    }\n",
       "                }\n",
       "            }, 500);\n",
       "            "
      ],
      "text/plain": [
       "<IPython.core.display.Javascript object>"
      ]
     },
     "metadata": {},
     "output_type": "display_data"
    }
   ],
   "source": [
    "# calculate root mean squared error\n",
    "trainScore = mean_squared_error([x[0][0] for x in Xtrain], trainPredict, squared=False)\n",
    "print(\"Train Score: %.2f RMSE\" % (trainScore))\n",
    "\n",
    "testScore = mean_squared_error([x[0][0] for x in Xtest], testPredict, squared=False)\n",
    "print(\"Test Score: %.2f RMSE\" % (testScore))"
   ]
  },
  {
   "cell_type": "code",
   "execution_count": null,
   "metadata": {},
   "outputs": [],
   "source": []
  }
 ],
 "metadata": {
  "kernelspec": {
   "display_name": "Python 3 (ipykernel)",
   "language": "python",
   "name": "python3"
  },
  "language_info": {
   "codemirror_mode": {
    "name": "ipython",
    "version": 3
   },
   "file_extension": ".py",
   "mimetype": "text/x-python",
   "name": "python",
   "nbconvert_exporter": "python",
   "pygments_lexer": "ipython3",
   "version": "3.9.12"
  }
 },
 "nbformat": 4,
 "nbformat_minor": 4
}
